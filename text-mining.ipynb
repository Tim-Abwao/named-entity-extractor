{
 "cells": [
  {
   "cell_type": "code",
   "execution_count": 1,
   "metadata": {},
   "outputs": [],
   "source": [
    "from tika import unpack\n",
    "import spacy\n",
    "import pandas as pd"
   ]
  },
  {
   "cell_type": "markdown",
   "metadata": {},
   "source": [
    "# 1. Extracting text "
   ]
  },
  {
   "cell_type": "code",
   "execution_count": 2,
   "metadata": {
    "tags": []
   },
   "outputs": [
    {
     "name": "stdout",
     "output_type": "stream",
     "text": [
      "\n",
      "Science\n",
      "\n",
      "Science (from the Latin word scientia, meaning\n",
      "\"knowledge\")[1] is a systematic enterprise that builds and\n",
      "organizes knowledge in the form of testable explanations\n",
      "and predictions about the universe.[2]\n"
     ]
    }
   ],
   "source": [
    "# Extracting text using tika-python\n",
    "parsed = unpack.from_file('Sample_document.pdf', 'http://localhost:9998/')\n",
    "text = parsed[\"content\"]\n",
    "print(text[:211])"
   ]
  },
  {
   "cell_type": "markdown",
   "metadata": {},
   "source": [
    "# 2. Processing the text using spaCy"
   ]
  },
  {
   "cell_type": "code",
   "execution_count": 3,
   "metadata": {},
   "outputs": [
    {
     "data": {
      "text/plain": [
       "(2696, 2696, 2696, 2696)"
      ]
     },
     "execution_count": 3,
     "metadata": {},
     "output_type": "execute_result"
    }
   ],
   "source": [
    "# Loading the spaCy 'small' model\n",
    "nlp = spacy.load(\"en_core_web_sm\")\n",
    "\n",
    "doc = nlp(text)  # applying the spaCy NLP pipeline\n",
    "\n",
    "# Obtaining entity information\n",
    "ent_text = []\n",
    "ent_labels = []\n",
    "ent_sentences = []\n",
    "for entity in doc.ents:\n",
    "    ent_text.append(entity.text)  # the entity's text\n",
    "    ent_labels.append(entity.label_)  # the type of entity (PERSON, ORG, GPE, etc)\n",
    "    ent_sentences.append(entity.sent.text.replace('\\n',' '))  # some context of the entity\n",
    "\n",
    "len(ent_labels),len(ent_text),len(ent_sentences),len(doc.ents)"
   ]
  },
  {
   "cell_type": "markdown",
   "metadata": {},
   "source": [
    "# 3. Exporting results to an excel file"
   ]
  },
  {
   "cell_type": "code",
   "execution_count": 4,
   "metadata": {},
   "outputs": [
    {
     "data": {
      "text/html": [
       "<div>\n",
       "<style scoped>\n",
       "    .dataframe tbody tr th:only-of-type {\n",
       "        vertical-align: middle;\n",
       "    }\n",
       "\n",
       "    .dataframe tbody tr th {\n",
       "        vertical-align: top;\n",
       "    }\n",
       "\n",
       "    .dataframe thead th {\n",
       "        text-align: right;\n",
       "    }\n",
       "</style>\n",
       "<table border=\"1\" class=\"dataframe\">\n",
       "  <thead>\n",
       "    <tr style=\"text-align: right;\">\n",
       "      <th></th>\n",
       "      <th>Entity</th>\n",
       "      <th>Type</th>\n",
       "      <th>Context</th>\n",
       "    </tr>\n",
       "  </thead>\n",
       "  <tbody>\n",
       "    <tr>\n",
       "      <th>0</th>\n",
       "      <td>Latin</td>\n",
       "      <td>NORP</td>\n",
       "      <td>Science  Science (from the Latin word scienti...</td>\n",
       "    </tr>\n",
       "    <tr>\n",
       "      <th>1</th>\n",
       "      <td>universe.[2][3][4</td>\n",
       "      <td>PRODUCT</td>\n",
       "      <td>\"knowledge\")[1] is a systematic enterprise tha...</td>\n",
       "    </tr>\n",
       "    <tr>\n",
       "      <th>2</th>\n",
       "      <td>Ancient Egypt\\n</td>\n",
       "      <td>PERSON</td>\n",
       "      <td>The earliest roots of science can be traced to...</td>\n",
       "    </tr>\n",
       "    <tr>\n",
       "      <th>3</th>\n",
       "      <td>Mesopotamia</td>\n",
       "      <td>LOC</td>\n",
       "      <td>The earliest roots of science can be traced to...</td>\n",
       "    </tr>\n",
       "    <tr>\n",
       "      <th>4</th>\n",
       "      <td>around 3500 to 3000</td>\n",
       "      <td>CARDINAL</td>\n",
       "      <td>The earliest roots of science can be traced to...</td>\n",
       "    </tr>\n",
       "  </tbody>\n",
       "</table>\n",
       "</div>"
      ],
      "text/plain": [
       "                Entity      Type  \\\n",
       "0                Latin      NORP   \n",
       "1    universe.[2][3][4   PRODUCT   \n",
       "2      Ancient Egypt\\n    PERSON   \n",
       "3          Mesopotamia       LOC   \n",
       "4  around 3500 to 3000  CARDINAL   \n",
       "\n",
       "                                             Context  \n",
       "0   Science  Science (from the Latin word scienti...  \n",
       "1  \"knowledge\")[1] is a systematic enterprise tha...  \n",
       "2  The earliest roots of science can be traced to...  \n",
       "3  The earliest roots of science can be traced to...  \n",
       "4  The earliest roots of science can be traced to...  "
      ]
     },
     "execution_count": 4,
     "metadata": {},
     "output_type": "execute_result"
    }
   ],
   "source": [
    "#Saving the information as a dataframe\n",
    "text_data = pd.DataFrame({'Entity': ent_text,'Type': ent_labels,'Context':ent_sentences})\n",
    "text_data.head()"
   ]
  },
  {
   "cell_type": "code",
   "execution_count": 5,
   "metadata": {},
   "outputs": [
    {
     "data": {
      "text/html": [
       "<div>\n",
       "<style scoped>\n",
       "    .dataframe tbody tr th:only-of-type {\n",
       "        vertical-align: middle;\n",
       "    }\n",
       "\n",
       "    .dataframe tbody tr th {\n",
       "        vertical-align: top;\n",
       "    }\n",
       "\n",
       "    .dataframe thead th {\n",
       "        text-align: right;\n",
       "    }\n",
       "</style>\n",
       "<table border=\"1\" class=\"dataframe\">\n",
       "  <thead>\n",
       "    <tr style=\"text-align: right;\">\n",
       "      <th></th>\n",
       "      <th>Type</th>\n",
       "      <th>Description</th>\n",
       "    </tr>\n",
       "  </thead>\n",
       "  <tbody>\n",
       "    <tr>\n",
       "      <th>0</th>\n",
       "      <td>NORP</td>\n",
       "      <td>Nationalities or religious or political groups</td>\n",
       "    </tr>\n",
       "    <tr>\n",
       "      <th>1</th>\n",
       "      <td>PRODUCT</td>\n",
       "      <td>Objects, vehicles, foods, etc. (not services)</td>\n",
       "    </tr>\n",
       "    <tr>\n",
       "      <th>2</th>\n",
       "      <td>PERSON</td>\n",
       "      <td>People, including fictional</td>\n",
       "    </tr>\n",
       "    <tr>\n",
       "      <th>3</th>\n",
       "      <td>LOC</td>\n",
       "      <td>Non-GPE locations, mountain ranges, bodies of ...</td>\n",
       "    </tr>\n",
       "    <tr>\n",
       "      <th>4</th>\n",
       "      <td>CARDINAL</td>\n",
       "      <td>Numerals that do not fall under another type</td>\n",
       "    </tr>\n",
       "    <tr>\n",
       "      <th>5</th>\n",
       "      <td>GPE</td>\n",
       "      <td>Countries, cities, states</td>\n",
       "    </tr>\n",
       "    <tr>\n",
       "      <th>6</th>\n",
       "      <td>DATE</td>\n",
       "      <td>Absolute or relative dates or periods</td>\n",
       "    </tr>\n",
       "    <tr>\n",
       "      <th>7</th>\n",
       "      <td>ORG</td>\n",
       "      <td>Companies, agencies, institutions, etc.</td>\n",
       "    </tr>\n",
       "    <tr>\n",
       "      <th>8</th>\n",
       "      <td>ORDINAL</td>\n",
       "      <td>\"first\", \"second\", etc.</td>\n",
       "    </tr>\n",
       "    <tr>\n",
       "      <th>9</th>\n",
       "      <td>WORK_OF_ART</td>\n",
       "      <td>Titles of books, songs, etc.</td>\n",
       "    </tr>\n",
       "    <tr>\n",
       "      <th>10</th>\n",
       "      <td>LAW</td>\n",
       "      <td>Named documents made into laws.</td>\n",
       "    </tr>\n",
       "    <tr>\n",
       "      <th>11</th>\n",
       "      <td>EVENT</td>\n",
       "      <td>Named hurricanes, battles, wars, sports events...</td>\n",
       "    </tr>\n",
       "    <tr>\n",
       "      <th>12</th>\n",
       "      <td>LANGUAGE</td>\n",
       "      <td>Any named language</td>\n",
       "    </tr>\n",
       "    <tr>\n",
       "      <th>13</th>\n",
       "      <td>FAC</td>\n",
       "      <td>Buildings, airports, highways, bridges, etc.</td>\n",
       "    </tr>\n",
       "    <tr>\n",
       "      <th>14</th>\n",
       "      <td>PERCENT</td>\n",
       "      <td>Percentage, including \"%\"</td>\n",
       "    </tr>\n",
       "    <tr>\n",
       "      <th>15</th>\n",
       "      <td>QUANTITY</td>\n",
       "      <td>Measurements, as of weight or distance</td>\n",
       "    </tr>\n",
       "    <tr>\n",
       "      <th>16</th>\n",
       "      <td>TIME</td>\n",
       "      <td>Times smaller than a day</td>\n",
       "    </tr>\n",
       "    <tr>\n",
       "      <th>17</th>\n",
       "      <td>MONEY</td>\n",
       "      <td>Monetary values, including unit</td>\n",
       "    </tr>\n",
       "  </tbody>\n",
       "</table>\n",
       "</div>"
      ],
      "text/plain": [
       "           Type                                        Description\n",
       "0          NORP     Nationalities or religious or political groups\n",
       "1       PRODUCT      Objects, vehicles, foods, etc. (not services)\n",
       "2        PERSON                        People, including fictional\n",
       "3           LOC  Non-GPE locations, mountain ranges, bodies of ...\n",
       "4      CARDINAL       Numerals that do not fall under another type\n",
       "5           GPE                          Countries, cities, states\n",
       "6          DATE              Absolute or relative dates or periods\n",
       "7           ORG            Companies, agencies, institutions, etc.\n",
       "8       ORDINAL                            \"first\", \"second\", etc.\n",
       "9   WORK_OF_ART                       Titles of books, songs, etc.\n",
       "10          LAW                    Named documents made into laws.\n",
       "11        EVENT  Named hurricanes, battles, wars, sports events...\n",
       "12     LANGUAGE                                 Any named language\n",
       "13          FAC       Buildings, airports, highways, bridges, etc.\n",
       "14      PERCENT                          Percentage, including \"%\"\n",
       "15     QUANTITY             Measurements, as of weight or distance\n",
       "16         TIME                           Times smaller than a day\n",
       "17        MONEY                    Monetary values, including unit"
      ]
     },
     "execution_count": 5,
     "metadata": {},
     "output_type": "execute_result"
    }
   ],
   "source": [
    "# Getting brief descriptions of each entity type\n",
    "\n",
    "labels = text_data.Type.unique()\n",
    "ent_descriptions = [spacy.explain(_label) for _label in labels]\n",
    "Descriptions = pd.DataFrame({\"Type\": labels, \"Description\": ent_descriptions})\n",
    "Descriptions"
   ]
  },
  {
   "cell_type": "code",
   "execution_count": 6,
   "metadata": {},
   "outputs": [],
   "source": [
    "with pd.ExcelWriter('text-mining.xlsx') as writer:\n",
    "    Descriptions.to_excel(writer, sheet_name=\"DEFINITIONS\", index=False)\n",
    "    for ent_name, data in text_data.groupby('Type'):\n",
    "        data[[\"Entity\",\"Context\"]].to_excel(writer, sheet_name=ent_name, \n",
    "                                            index=False)"
   ]
  }
 ],
 "metadata": {
  "kernelspec": {
   "display_name": "Python 3.8.2 64-bit ('env': venv)",
   "language": "python",
   "name": "python38264bitenvvenv1d55b6832c344879b8cccd46e9c69da7"
  },
  "language_info": {
   "codemirror_mode": {
    "name": "ipython",
    "version": 3
   },
   "file_extension": ".py",
   "mimetype": "text/x-python",
   "name": "python",
   "nbconvert_exporter": "python",
   "pygments_lexer": "ipython3",
   "version": "3.8.2"
  }
 },
 "nbformat": 4,
 "nbformat_minor": 2
}
