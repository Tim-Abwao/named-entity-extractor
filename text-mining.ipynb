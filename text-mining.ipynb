{
 "cells": [
  {
   "cell_type": "code",
   "execution_count": 1,
   "metadata": {},
   "outputs": [],
   "source": [
    "import tika\n",
    "from tika import unpack\n",
    "import spacy\n",
    "import pandas as pd"
   ]
  },
  {
   "cell_type": "markdown",
   "metadata": {},
   "source": [
    "# 1. Extracting text "
   ]
  },
  {
   "cell_type": "code",
   "execution_count": 2,
   "metadata": {},
   "outputs": [
    {
     "name": "stdout",
     "output_type": "stream",
     "text": [
      "\n",
      "Science\n",
      "\n",
      "Science (from the Latin word scientia, meaning\n",
      "\"knowledge\")[1] is a systematic enterprise that builds and\n",
      "organizes knowledge in the form of testable explanations\n",
      "and predictions about the universe.[2]\n"
     ]
    }
   ],
   "source": [
    "# Extracting text using tika-python\n",
    "parsed = unpack.from_file('Sample_document.pdf', 'http://localhost:9998/')\n",
    "text = parsed[\"content\"]\n",
    "print(text[:211])"
   ]
  },
  {
   "cell_type": "markdown",
   "metadata": {},
   "source": [
    "# 2. Processing the text using spaCy"
   ]
  },
  {
   "cell_type": "code",
   "execution_count": 3,
   "metadata": {},
   "outputs": [
    {
     "data": {
      "text/plain": [
       "(2774, 2774, 2774, 2774)"
      ]
     },
     "execution_count": 3,
     "metadata": {},
     "output_type": "execute_result"
    }
   ],
   "source": [
    "# Loading the SpaCy 'small' model\n",
    "nlp = spacy.load(\"en_core_web_sm\")\n",
    "\n",
    "doc = nlp(text)  # applying the spaCy NLP pipeline\n",
    "\n",
    "# Obtaining entity information\n",
    "ent_text=[]\n",
    "ent_label=[]\n",
    "ent_sentence=[]\n",
    "for entity in doc.ents:\n",
    "    ent_text.append(entity.text)  # the entity's text\n",
    "    ent_label.append(entity.label_)  # the type of entity (PERSON, ORG, GPE, etc)\n",
    "    ent_sentence.append(entity.sent.text.replace('\\n',' '))  # some context of the entity\n",
    "\n",
    "len(ent_label),len(ent_text),len(ent_sentence),len(doc.ents)"
   ]
  },
  {
   "cell_type": "markdown",
   "metadata": {},
   "source": [
    "# 3. Exporting results to an excel file"
   ]
  },
  {
   "cell_type": "code",
   "execution_count": 4,
   "metadata": {},
   "outputs": [
    {
     "data": {
      "text/html": [
       "<div>\n",
       "<style scoped>\n",
       "    .dataframe tbody tr th:only-of-type {\n",
       "        vertical-align: middle;\n",
       "    }\n",
       "\n",
       "    .dataframe tbody tr th {\n",
       "        vertical-align: top;\n",
       "    }\n",
       "\n",
       "    .dataframe thead th {\n",
       "        text-align: right;\n",
       "    }\n",
       "</style>\n",
       "<table border=\"1\" class=\"dataframe\">\n",
       "  <thead>\n",
       "    <tr style=\"text-align: right;\">\n",
       "      <th></th>\n",
       "      <th>Entity</th>\n",
       "      <th>Type</th>\n",
       "      <th>Context</th>\n",
       "    </tr>\n",
       "  </thead>\n",
       "  <tbody>\n",
       "    <tr>\n",
       "      <th>0</th>\n",
       "      <td>Latin</td>\n",
       "      <td>NORP</td>\n",
       "      <td>Science  Science (from the Latin word scienti...</td>\n",
       "    </tr>\n",
       "    <tr>\n",
       "      <th>1</th>\n",
       "      <td>Egypt</td>\n",
       "      <td>GPE</td>\n",
       "      <td>The earliest roots of science can be traced to...</td>\n",
       "    </tr>\n",
       "    <tr>\n",
       "      <th>2</th>\n",
       "      <td>Mesopotamia</td>\n",
       "      <td>PRODUCT</td>\n",
       "      <td>The earliest roots of science can be traced to...</td>\n",
       "    </tr>\n",
       "    <tr>\n",
       "      <th>3</th>\n",
       "      <td>Greek</td>\n",
       "      <td>NORP</td>\n",
       "      <td>Their contributions to mathematics, astronomy,...</td>\n",
       "    </tr>\n",
       "    <tr>\n",
       "      <th>4</th>\n",
       "      <td>Empire</td>\n",
       "      <td>GPE</td>\n",
       "      <td>After the fall of the Western Roman Empire, kn...</td>\n",
       "    </tr>\n",
       "  </tbody>\n",
       "</table>\n",
       "</div>"
      ],
      "text/plain": [
       "        Entity     Type                                            Context\n",
       "0        Latin     NORP   Science  Science (from the Latin word scienti...\n",
       "1        Egypt      GPE  The earliest roots of science can be traced to...\n",
       "2  Mesopotamia  PRODUCT  The earliest roots of science can be traced to...\n",
       "3        Greek     NORP  Their contributions to mathematics, astronomy,...\n",
       "4       Empire      GPE  After the fall of the Western Roman Empire, kn..."
      ]
     },
     "execution_count": 4,
     "metadata": {},
     "output_type": "execute_result"
    }
   ],
   "source": [
    "#Saving the information as a dataframe\n",
    "df=pd.DataFrame({'Entity': ent_text,'Type': ent_label,'Context':ent_sentence})\n",
    "df.head()"
   ]
  },
  {
   "cell_type": "code",
   "execution_count": 5,
   "metadata": {},
   "outputs": [],
   "source": [
    "entities = list(df.groupby('Type'))  # a list of (type, dataframe) tuples.\n",
    "with pd.ExcelWriter('text-mining.xlsx') as writer:\n",
    "    for ent_name, data in entities:\n",
    "        data.to_excel(writer, sheet_name=ent_name, index=False)"
   ]
  }
 ],
 "metadata": {
  "kernelspec": {
   "display_name": "Python 3",
   "language": "python",
   "name": "python3"
  },
  "language_info": {
   "codemirror_mode": {
    "name": "ipython",
    "version": 3
   },
   "file_extension": ".py",
   "mimetype": "text/x-python",
   "name": "python",
   "nbconvert_exporter": "python",
   "pygments_lexer": "ipython3",
   "version": "3.6.9"
  }
 },
 "nbformat": 4,
 "nbformat_minor": 2
}
