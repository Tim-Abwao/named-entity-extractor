{
 "cells": [
  {
   "cell_type": "code",
   "execution_count": 1,
   "metadata": {},
   "outputs": [],
   "source": [
    "from tika import unpack\n",
    "import spacy\n",
    "import pandas as pd"
   ]
  },
  {
   "cell_type": "markdown",
   "metadata": {},
   "source": [
    "# 1. Extracting text "
   ]
  },
  {
   "cell_type": "code",
   "execution_count": 2,
   "metadata": {},
   "outputs": [
    {
     "output_type": "stream",
     "name": "stdout",
     "text": "\nScience\n\nScience (from the Latin word scientia, meaning\n\"knowledge\")[1] is a systematic enterprise that builds and\norganizes knowledge in the form of testable explanations\nand predictions about the universe.[2]\n"
    }
   ],
   "source": [
    "# Extracting text using tika-python\n",
    "parsed = unpack.from_file('Sample_document.pdf', 'http://localhost:9998/')\n",
    "text = parsed[\"content\"]\n",
    "print(text[:211])"
   ]
  },
  {
   "cell_type": "markdown",
   "metadata": {},
   "source": [
    "# 2. Processing the text using spaCy"
   ]
  },
  {
   "cell_type": "code",
   "execution_count": 3,
   "metadata": {},
   "outputs": [
    {
     "output_type": "execute_result",
     "data": {
      "text/plain": "(2775, 2775, 2775, 2775)"
     },
     "metadata": {},
     "execution_count": 3
    }
   ],
   "source": [
    "# Loading the spaCy 'small' model\n",
    "nlp = spacy.load(\"en_core_web_sm\")\n",
    "\n",
    "doc = nlp(text)  # applying the spaCy NLP pipeline\n",
    "\n",
    "# Obtaining entity information\n",
    "ent_text = []\n",
    "ent_labels = []\n",
    "ent_sentences = []\n",
    "for entity in doc.ents:\n",
    "    ent_text.append(entity.text)  # the entity's text\n",
    "    ent_labels.append(entity.label_)  # the type of entity (PERSON, ORG, GPE, etc)\n",
    "    ent_sentences.append(entity.sent.text.replace('\\n',' '))  # some context of the entity\n",
    "\n",
    "len(ent_labels),len(ent_text),len(ent_sentences),len(doc.ents)"
   ]
  },
  {
   "cell_type": "markdown",
   "metadata": {},
   "source": [
    "# 3. Exporting results to an excel file"
   ]
  },
  {
   "cell_type": "code",
   "execution_count": 4,
   "metadata": {},
   "outputs": [
    {
     "output_type": "execute_result",
     "data": {
      "text/plain": "        Entity     Type                                            Context\n0        Latin     NORP   Science  Science (from the Latin word scienti...\n1        Egypt      GPE  The earliest roots of science can be traced to...\n2  Mesopotamia  PRODUCT  The earliest roots of science can be traced to...\n3        Greek     NORP  Their contributions to mathematics, astronomy,...\n4       Empire      GPE  After the fall of the Western Roman Empire, kn...",
      "text/html": "<div>\n<style scoped>\n    .dataframe tbody tr th:only-of-type {\n        vertical-align: middle;\n    }\n\n    .dataframe tbody tr th {\n        vertical-align: top;\n    }\n\n    .dataframe thead th {\n        text-align: right;\n    }\n</style>\n<table border=\"1\" class=\"dataframe\">\n  <thead>\n    <tr style=\"text-align: right;\">\n      <th></th>\n      <th>Entity</th>\n      <th>Type</th>\n      <th>Context</th>\n    </tr>\n  </thead>\n  <tbody>\n    <tr>\n      <th>0</th>\n      <td>Latin</td>\n      <td>NORP</td>\n      <td>Science  Science (from the Latin word scienti...</td>\n    </tr>\n    <tr>\n      <th>1</th>\n      <td>Egypt</td>\n      <td>GPE</td>\n      <td>The earliest roots of science can be traced to...</td>\n    </tr>\n    <tr>\n      <th>2</th>\n      <td>Mesopotamia</td>\n      <td>PRODUCT</td>\n      <td>The earliest roots of science can be traced to...</td>\n    </tr>\n    <tr>\n      <th>3</th>\n      <td>Greek</td>\n      <td>NORP</td>\n      <td>Their contributions to mathematics, astronomy,...</td>\n    </tr>\n    <tr>\n      <th>4</th>\n      <td>Empire</td>\n      <td>GPE</td>\n      <td>After the fall of the Western Roman Empire, kn...</td>\n    </tr>\n  </tbody>\n</table>\n</div>"
     },
     "metadata": {},
     "execution_count": 4
    }
   ],
   "source": [
    "#Saving the information as a dataframe\n",
    "text_data = pd.DataFrame({'Entity': ent_text,'Type': ent_labels,'Context':ent_sentences})\n",
    "text_data.head()"
   ]
  },
  {
   "cell_type": "code",
   "execution_count": 5,
   "metadata": {},
   "outputs": [
    {
     "output_type": "execute_result",
     "data": {
      "text/plain": "           Type                                        Description\n0          NORP     Nationalities or religious or political groups\n1           GPE                          Countries, cities, states\n2       PRODUCT      Objects, vehicles, foods, etc. (not services)\n3           LOC  Non-GPE locations, mountain ranges, bodies of ...\n4          DATE              Absolute or relative dates or periods\n5      CARDINAL       Numerals that do not fall under another type\n6           ORG            Companies, agencies, institutions, etc.\n7        PERSON                        People, including fictional\n8   WORK_OF_ART                       Titles of books, songs, etc.\n9       ORDINAL                            \"first\", \"second\", etc.\n10        EVENT  Named hurricanes, battles, wars, sports events...\n11     LANGUAGE                                 Any named language\n12          FAC       Buildings, airports, highways, bridges, etc.\n13         TIME                           Times smaller than a day\n14      PERCENT                          Percentage, including \"%\"\n15          LAW                    Named documents made into laws.",
      "text/html": "<div>\n<style scoped>\n    .dataframe tbody tr th:only-of-type {\n        vertical-align: middle;\n    }\n\n    .dataframe tbody tr th {\n        vertical-align: top;\n    }\n\n    .dataframe thead th {\n        text-align: right;\n    }\n</style>\n<table border=\"1\" class=\"dataframe\">\n  <thead>\n    <tr style=\"text-align: right;\">\n      <th></th>\n      <th>Type</th>\n      <th>Description</th>\n    </tr>\n  </thead>\n  <tbody>\n    <tr>\n      <th>0</th>\n      <td>NORP</td>\n      <td>Nationalities or religious or political groups</td>\n    </tr>\n    <tr>\n      <th>1</th>\n      <td>GPE</td>\n      <td>Countries, cities, states</td>\n    </tr>\n    <tr>\n      <th>2</th>\n      <td>PRODUCT</td>\n      <td>Objects, vehicles, foods, etc. (not services)</td>\n    </tr>\n    <tr>\n      <th>3</th>\n      <td>LOC</td>\n      <td>Non-GPE locations, mountain ranges, bodies of ...</td>\n    </tr>\n    <tr>\n      <th>4</th>\n      <td>DATE</td>\n      <td>Absolute or relative dates or periods</td>\n    </tr>\n    <tr>\n      <th>5</th>\n      <td>CARDINAL</td>\n      <td>Numerals that do not fall under another type</td>\n    </tr>\n    <tr>\n      <th>6</th>\n      <td>ORG</td>\n      <td>Companies, agencies, institutions, etc.</td>\n    </tr>\n    <tr>\n      <th>7</th>\n      <td>PERSON</td>\n      <td>People, including fictional</td>\n    </tr>\n    <tr>\n      <th>8</th>\n      <td>WORK_OF_ART</td>\n      <td>Titles of books, songs, etc.</td>\n    </tr>\n    <tr>\n      <th>9</th>\n      <td>ORDINAL</td>\n      <td>\"first\", \"second\", etc.</td>\n    </tr>\n    <tr>\n      <th>10</th>\n      <td>EVENT</td>\n      <td>Named hurricanes, battles, wars, sports events...</td>\n    </tr>\n    <tr>\n      <th>11</th>\n      <td>LANGUAGE</td>\n      <td>Any named language</td>\n    </tr>\n    <tr>\n      <th>12</th>\n      <td>FAC</td>\n      <td>Buildings, airports, highways, bridges, etc.</td>\n    </tr>\n    <tr>\n      <th>13</th>\n      <td>TIME</td>\n      <td>Times smaller than a day</td>\n    </tr>\n    <tr>\n      <th>14</th>\n      <td>PERCENT</td>\n      <td>Percentage, including \"%\"</td>\n    </tr>\n    <tr>\n      <th>15</th>\n      <td>LAW</td>\n      <td>Named documents made into laws.</td>\n    </tr>\n  </tbody>\n</table>\n</div>"
     },
     "metadata": {},
     "execution_count": 5
    }
   ],
   "source": [
    "# Getting brief descriptions of each entity type\n",
    "\n",
    "labels = text_data.Type.unique()\n",
    "ent_descriptions = [spacy.explain(_label) for _label in labels]\n",
    "Descriptions = pd.DataFrame({\"Type\": labels, \"Description\": ent_descriptions})\n",
    "Descriptions"
   ]
  },
  {
   "cell_type": "code",
   "execution_count": 6,
   "metadata": {},
   "outputs": [],
   "source": [
    "with pd.ExcelWriter('text-mining.xlsx') as writer:\n",
    "    Descriptions.to_excel(writer, sheet_name=\"DEFINITIONS\", index=False)\n",
    "    for ent_name, data in text_data.groupby('Type'):\n",
    "        data[[\"Entity\",\"Context\"]].to_excel(writer, sheet_name=ent_name, \n",
    "                                            index=False)"
   ]
  }
 ],
 "metadata": {
  "kernelspec": {
   "display_name": "Python 3.6.9 64-bit ('env': venv)",
   "language": "python",
   "name": "python36964bitenvvenve9d0ab6ae06a4b878cfcd058bf6b580b"
  },
  "language_info": {
   "codemirror_mode": {
    "name": "ipython",
    "version": 3
   },
   "file_extension": ".py",
   "mimetype": "text/x-python",
   "name": "python",
   "nbconvert_exporter": "python",
   "pygments_lexer": "ipython3",
   "version": "3.6.9-final"
  }
 },
 "nbformat": 4,
 "nbformat_minor": 2
}