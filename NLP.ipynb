{
 "cells": [
  {
   "cell_type": "markdown",
   "metadata": {},
   "source": [
    "# Selecting A Text File"
   ]
  },
  {
   "cell_type": "code",
   "execution_count": null,
   "metadata": {},
   "outputs": [],
   "source": [
    "#using the Tkinter graphical user interface (GUI) to select text file\n",
    "from tkinter import filedialog\n",
    "from tkinter import *\n",
    "import os\n",
    "\n",
    "root = Tk()\n",
    "cwd = os.getcwd() # get current working directory\n",
    "root.filename = filedialog.askopenfilename(initialdir = cwd,title = \"Select file\",filetypes = ((\"all files\",\"*.*\"),(\"plain text\",\"*.txt\"),('pdf','*.pdf')))\n"
   ]
  },
  {
   "cell_type": "markdown",
   "metadata": {},
   "source": [
    "# Extracting Text From The File"
   ]
  },
  {
   "cell_type": "code",
   "execution_count": null,
   "metadata": {},
   "outputs": [],
   "source": [
    "#extracting text from the file using Apache Tika\n",
    "import tika\n",
    "from tika import unpack\n",
    "parsed = unpack.from_file(root.filename)\n",
    "text=parsed[\"content\"]   #text extracted from the file, as a continuous string\n"
   ]
  },
  {
   "cell_type": "markdown",
   "metadata": {},
   "source": [
    "# Processing The Text Using SpaCy"
   ]
  },
  {
   "cell_type": "code",
   "execution_count": null,
   "metadata": {},
   "outputs": [],
   "source": [
    "import spacy\n",
    "#loading the SpaCy 'small' model\n",
    "nlp = spacy.load(\"en_core_web_sm\")\n",
    "\n",
    "#Processing the text\n",
    "doc = nlp(text)\n",
    "\n",
    "#obtaining entity information\n",
    "ent_text=[]\n",
    "ent_label=[]\n",
    "ent_sentence=[]\n",
    "for entity in doc.ents:\n",
    "    ent_text.append(entity.text) #the entity's text\n",
    "    ent_label.append(entity.label_) # the type of entity, a string e.g. PERSON,GPE, etc\n",
    "    ent_sentence.append(entity.sent.text.replace('\\n',' ')) # a sentence with the entity, as one line with newline - \\n - removed\n",
    "\n",
    "len(ent_label),len(ent_text),len(ent_sentence),len(doc.ents) # check number of entities + related info"
   ]
  },
  {
   "cell_type": "markdown",
   "metadata": {},
   "source": [
    "# Exporting Extracted Information To A File"
   ]
  },
  {
   "cell_type": "code",
   "execution_count": null,
   "metadata": {},
   "outputs": [],
   "source": [
    "#Saving the information as a dataframe\n",
    "import pandas as pd\n",
    "df=pd.DataFrame({'Entity': ent_text,'Type': ent_label,'Context':ent_sentence})\n",
    "df.head()"
   ]
  },
  {
   "cell_type": "code",
   "execution_count": null,
   "metadata": {},
   "outputs": [],
   "source": [
    "#Separating info for each entity. This gives a list of (label, label_dataframe) tuples.\n",
    "entities=list(df.groupby('Type'))\n",
    "\n",
    "#Exporting the entity info into an excel file, with a sheet for each type:\n",
    "save_dir=filedialog.askdirectory(title='Select destination directory') # a GUI to select destination directory\n",
    "with pd.ExcelWriter(save_dir+'/text-mining.xlsx') as writer:\n",
    "    for x in entities:\n",
    "        x[1].to_excel(writer, sheet_name=x[0], index=False)\n"
   ]
  },
  {
   "cell_type": "code",
   "execution_count": null,
   "metadata": {},
   "outputs": [],
   "source": []
  }
 ],
 "metadata": {
  "kernelspec": {
   "display_name": "Python 3",
   "language": "python",
   "name": "python3"
  },
  "language_info": {
   "codemirror_mode": {
    "name": "ipython",
    "version": 3
   },
   "file_extension": ".py",
   "mimetype": "text/x-python",
   "name": "python",
   "nbconvert_exporter": "python",
   "pygments_lexer": "ipython3",
   "version": "3.6.8"
  }
 },
 "nbformat": 4,
 "nbformat_minor": 2
}
