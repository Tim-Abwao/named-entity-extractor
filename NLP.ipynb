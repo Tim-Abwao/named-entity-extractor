{
 "cells": [
  {
   "cell_type": "markdown",
   "metadata": {},
   "source": [
    "# Selecting A Text File"
   ]
  },
  {
   "cell_type": "code",
   "execution_count": 1,
   "metadata": {},
   "outputs": [],
   "source": [
    "#using the Tkinter graphical user interface (GUI) to select text file\n",
    "from tkinter import filedialog\n",
    "from tkinter import *\n",
    "import os\n",
    "\n",
    "root = Tk()\n",
    "cwd = os.getcwd() # getting current working directory\n",
    "root.filename = filedialog.askopenfilename(initialdir = cwd,title = \"Please select document\",filetypes = ((\"all files\",\"*.*\"),(\"plain text\",\"*.txt\"),('pdf','*.pdf')))\n"
   ]
  },
  {
   "cell_type": "markdown",
   "metadata": {},
   "source": [
    "# Extracting Text From The File"
   ]
  },
  {
   "cell_type": "code",
   "execution_count": 2,
   "metadata": {},
   "outputs": [],
   "source": [
    "#extracting text from the file using Apache Tika\n",
    "import tika\n",
    "from tika import unpack\n",
    "parsed = unpack.from_file(root.filename)\n",
    "text=parsed[\"content\"]   #obtaining the document's text\n"
   ]
  },
  {
   "cell_type": "markdown",
   "metadata": {},
   "source": [
    "# Processing The Text Using SpaCy"
   ]
  },
  {
   "cell_type": "code",
   "execution_count": 3,
   "metadata": {},
   "outputs": [
    {
     "data": {
      "text/plain": [
       "(2774, 2774, 2774, 2774)"
      ]
     },
     "execution_count": 3,
     "metadata": {},
     "output_type": "execute_result"
    }
   ],
   "source": [
    "import spacy\n",
    "#loading the SpaCy 'small' model\n",
    "nlp = spacy.load(\"en_core_web_sm\")\n",
    "\n",
    "#Processing the text\n",
    "doc = nlp(text)\n",
    "\n",
    "#obtaining entity information\n",
    "ent_text=[]\n",
    "ent_label=[]\n",
    "ent_sentence=[]\n",
    "for entity in doc.ents:\n",
    "    ent_text.append(entity.text) #the entity's text\n",
    "    ent_label.append(entity.label_) # the type of entity e.g. PERSON,GPE, etc\n",
    "    ent_sentence.append(entity.sent.text.replace('\\n',' ')) # some context of the entity\n",
    "\n",
    "len(ent_label),len(ent_text),len(ent_sentence),len(doc.ents) # check number of entities + related info"
   ]
  },
  {
   "cell_type": "markdown",
   "metadata": {},
   "source": [
    "# Exporting Extracted Information To A File"
   ]
  },
  {
   "cell_type": "code",
   "execution_count": 4,
   "metadata": {},
   "outputs": [
    {
     "data": {
      "text/html": [
       "<div>\n",
       "<style scoped>\n",
       "    .dataframe tbody tr th:only-of-type {\n",
       "        vertical-align: middle;\n",
       "    }\n",
       "\n",
       "    .dataframe tbody tr th {\n",
       "        vertical-align: top;\n",
       "    }\n",
       "\n",
       "    .dataframe thead th {\n",
       "        text-align: right;\n",
       "    }\n",
       "</style>\n",
       "<table border=\"1\" class=\"dataframe\">\n",
       "  <thead>\n",
       "    <tr style=\"text-align: right;\">\n",
       "      <th></th>\n",
       "      <th>Entity</th>\n",
       "      <th>Type</th>\n",
       "      <th>Context</th>\n",
       "    </tr>\n",
       "  </thead>\n",
       "  <tbody>\n",
       "    <tr>\n",
       "      <th>0</th>\n",
       "      <td>Latin</td>\n",
       "      <td>NORP</td>\n",
       "      <td>Science  Science (from the Latin word scienti...</td>\n",
       "    </tr>\n",
       "    <tr>\n",
       "      <th>1</th>\n",
       "      <td>Egypt</td>\n",
       "      <td>GPE</td>\n",
       "      <td>The earliest roots of science can be traced to...</td>\n",
       "    </tr>\n",
       "    <tr>\n",
       "      <th>2</th>\n",
       "      <td>Mesopotamia</td>\n",
       "      <td>PRODUCT</td>\n",
       "      <td>The earliest roots of science can be traced to...</td>\n",
       "    </tr>\n",
       "    <tr>\n",
       "      <th>3</th>\n",
       "      <td>Greek</td>\n",
       "      <td>NORP</td>\n",
       "      <td>Their contributions to mathematics, astronomy,...</td>\n",
       "    </tr>\n",
       "    <tr>\n",
       "      <th>4</th>\n",
       "      <td>Empire</td>\n",
       "      <td>GPE</td>\n",
       "      <td>After the fall of the Western Roman Empire, kn...</td>\n",
       "    </tr>\n",
       "  </tbody>\n",
       "</table>\n",
       "</div>"
      ],
      "text/plain": [
       "        Entity     Type                                            Context\n",
       "0        Latin     NORP   Science  Science (from the Latin word scienti...\n",
       "1        Egypt      GPE  The earliest roots of science can be traced to...\n",
       "2  Mesopotamia  PRODUCT  The earliest roots of science can be traced to...\n",
       "3        Greek     NORP  Their contributions to mathematics, astronomy,...\n",
       "4       Empire      GPE  After the fall of the Western Roman Empire, kn..."
      ]
     },
     "execution_count": 4,
     "metadata": {},
     "output_type": "execute_result"
    }
   ],
   "source": [
    "#Saving the information as a dataframe\n",
    "import pandas as pd\n",
    "df=pd.DataFrame({'Entity': ent_text,'Type': ent_label,'Context':ent_sentence})\n",
    "df.head()"
   ]
  },
  {
   "cell_type": "code",
   "execution_count": 5,
   "metadata": {},
   "outputs": [],
   "source": [
    "#Separating info for each entity. This gives a list of (label, label_dataframe) tuples.\n",
    "entities=list(df.groupby('Type'))\n",
    "\n",
    "#Exporting the entity info into an excel file, with a sheet for each type:\n",
    "save_dir=filedialog.askdirectory(title='Select destination directory') # a GUI to select destination directory\n",
    "with pd.ExcelWriter(save_dir+'/text-mining.xlsx') as writer:\n",
    "    for x in entities:\n",
    "        x[1].to_excel(writer, sheet_name=x[0], index=False)\n"
   ]
  }
 ],
 "metadata": {
  "kernelspec": {
   "display_name": "Python 3",
   "language": "python",
   "name": "python3"
  },
  "language_info": {
   "codemirror_mode": {
    "name": "ipython",
    "version": 3
   },
   "file_extension": ".py",
   "mimetype": "text/x-python",
   "name": "python",
   "nbconvert_exporter": "python",
   "pygments_lexer": "ipython3",
   "version": "3.6.9"
  }
 },
 "nbformat": 4,
 "nbformat_minor": 2
}
